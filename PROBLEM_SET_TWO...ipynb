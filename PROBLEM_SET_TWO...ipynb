{
 "cells": [
  {
   "cell_type": "markdown",
   "id": "6f97c7e5",
   "metadata": {},
   "source": [
    "# QUESTION 1"
   ]
  },
  {
   "cell_type": "code",
   "execution_count": 1,
   "id": "a541501f",
   "metadata": {},
   "outputs": [
    {
     "data": {
      "text/plain": [
       "6"
      ]
     },
     "execution_count": 1,
     "metadata": {},
     "output_type": "execute_result"
    }
   ],
   "source": [
    "a = 0\n",
    "\n",
    "def b():\n",
    " global a\n",
    " a = c(a)\n",
    "    \n",
    "def c(a):\n",
    " return a + 2\n",
    "\n",
    "b()\n",
    "b()\n",
    "b()\n",
    "a"
   ]
  },
  {
   "cell_type": "markdown",
   "id": "8549ceec",
   "metadata": {},
   "source": [
    "We call function c from within function b, where variable 'a' is specified as a global variable. During the call to function c, the value of 'a' increases by 2 with each function call.that is, it will become six after the third call."
   ]
  },
  {
   "cell_type": "markdown",
   "id": "2102f913",
   "metadata": {},
   "source": [
    "# QUESTION 2"
   ]
  },
  {
   "cell_type": "code",
   "execution_count": 3,
   "id": "caf68179",
   "metadata": {},
   "outputs": [
    {
     "name": "stdout",
     "output_type": "stream",
     "text": [
      "123\n",
      "File Filelenth.txt not found!!\n"
     ]
    }
   ],
   "source": [
    "def fileLength(filename): \n",
    "    try:\n",
    "        inputfile = open(filename)\n",
    "        words = inputfile.read()\n",
    "        inputfile.close()\n",
    "        print(len(words))\n",
    "    except:\n",
    "        print(\"File \"+filename+\" not found!!\")\n",
    "fileLength(\"Filelength.txt\") #invoking the method with the real input\n",
    "fileLength(\"Filelenth.txt\") #running the method to detect an error"
   ]
  },
  {
   "cell_type": "markdown",
   "id": "844d7dd5",
   "metadata": {},
   "source": [
    "# QUESTION 3"
   ]
  },
  {
   "cell_type": "code",
   "execution_count": 5,
   "id": "4ba64782",
   "metadata": {},
   "outputs": [
    {
     "name": "stdout",
     "output_type": "stream",
     "text": [
      "I am a Kangaroo located at coordinates ( 0,0)\n",
      "['doll', 'firetruck', 'kitten']\n",
      "I am a Kangaroo located at coordinates ( 3,0)\n"
     ]
    }
   ],
   "source": [
    "class Marsupial:                 #parent class started\n",
    "    def __init__(self,x,y):       #defining constructor\n",
    "        self.pouch=[]                   \n",
    "             \n",
    "    def put_in_pouch(self,items):   # appending items to the pouch\n",
    "        self.pouch.append(items)\n",
    "        \n",
    "    def pouch_contents(self):           \n",
    "        return self.pouch\n",
    "\n",
    "class Kangaroo(Marsupial):         #creating sub-class \n",
    "    def __init__(self,x,y):              \n",
    "        super().__init__(x,y)     #super constructor\n",
    "        self.dx = 0                      \n",
    "        self.dy = 0                        \n",
    "    \n",
    "    def jump(self,x,y):                 \n",
    "        self.dx = self.dx + x    #providing a jump function to jump Kangaroo's coordinates based on input \n",
    "        self.dy = self.dy + y\n",
    "    \n",
    "    def __str__(self):         \n",
    "        \n",
    "        return ('I am a Kangaroo located at coordinates ( {},{})'.format(self.dx,self.dy))\n",
    "\n",
    "k = Kangaroo(0,0)\n",
    "print(k)\n",
    "k.put_in_pouch('doll')\n",
    "k.put_in_pouch('firetruck')\n",
    "k.put_in_pouch('kitten')\n",
    "k.pouch_contents()\n",
    "print(k.pouch)  \n",
    "k.jump(1,0)\n",
    "k.jump(1,0)\n",
    "k.jump(1,0)\n",
    "print(k)"
   ]
  },
  {
   "cell_type": "markdown",
   "id": "ddb607f4",
   "metadata": {},
   "source": [
    "# QUESTION 4"
   ]
  },
  {
   "cell_type": "code",
   "execution_count": 6,
   "id": "24c438cf",
   "metadata": {},
   "outputs": [
    {
     "name": "stdout",
     "output_type": "stream",
     "text": [
      "1\n",
      "\n",
      "\n",
      "10\n",
      "5\n",
      "16\n",
      "8\n",
      "4\n",
      "2\n",
      "1\n"
     ]
    }
   ],
   "source": [
    "def collatz (x):  #defining function\n",
    "    if(x != 1): \n",
    "        print(x )\n",
    "    if(x == 1):\n",
    "        print(x)\n",
    "        return x\n",
    "    if(x%2 == 0):  #even number\n",
    "        x = x // 2\n",
    "        collatz(x)\n",
    "    else:               #odd number\n",
    "        x= 3*x + 1\n",
    "        collatz(x)\n",
    "\n",
    "\n",
    "collatz(1)  \n",
    "print('\\n')\n",
    "collatz(10)"
   ]
  },
  {
   "cell_type": "markdown",
   "id": "469c4de4",
   "metadata": {},
   "source": [
    "# QUESTION 5"
   ]
  },
  {
   "cell_type": "code",
   "execution_count": 7,
   "id": "a07f8977",
   "metadata": {},
   "outputs": [
    {
     "name": "stdout",
     "output_type": "stream",
     "text": [
      "0\n",
      "1\n",
      "11\n",
      "1001\n"
     ]
    }
   ],
   "source": [
    "binary_form =\"\"\n",
    "def binary (n):\n",
    "    global binary_form  #specifying a global variable\n",
    "    if(n==0): \n",
    "        print(\"0\")\n",
    "        \n",
    "    elif(n==1):\n",
    "        binary_form +=\"1\" # adding 1 to the string's end\n",
    "        binary_form = binary_form [::-1] # in this phase we reverse the string\n",
    "        print(binary_form)\n",
    "        binary_form=\"\"  #updating the global variable's values\n",
    "            \n",
    "    else:\n",
    "        x=\"\"\n",
    "        remainder = int(n%2)\n",
    "        x =str(remainder)\n",
    "        binary_form+=x  #adding the remaining amount to the binary format\n",
    "        n =int(n/2)\n",
    "        binary(n) #this is the recursive function\n",
    "\n",
    "        \n",
    "binary(0)\n",
    "binary(1)\n",
    "binary(3)\n",
    "binary(9)"
   ]
  },
  {
   "cell_type": "markdown",
   "id": "f3e26dab",
   "metadata": {},
   "source": [
    "# QUESTION 6"
   ]
  },
  {
   "cell_type": "code",
   "execution_count": 8,
   "id": "69fcd352",
   "metadata": {},
   "outputs": [
    {
     "name": "stdout",
     "output_type": "stream",
     "text": [
      "W3C Mission\n",
      " Principles\n"
     ]
    }
   ],
   "source": [
    "from html.parser import HTMLParser\n",
    "class HeadingParser(HTMLParser):\n",
    "    indent = -6 \n",
    "        \n",
    "    def handle_starttag(self, tag, attrs): # function to assign indentation according to heading tag\n",
    "        if tag == 'h1':\n",
    "            self.indent = 0\n",
    "        elif tag == 'h2':\n",
    "            self.indent = 1\n",
    "        elif tag == 'h3':\n",
    "            self.indent = 2\n",
    "        elif tag == 'h4':\n",
    "            self.indent = 3\n",
    "        elif tag == 'h5':\n",
    "            self.indent = 4            \n",
    "        elif tag == 'h6':\n",
    "            self.indent = 5\n",
    "        else:\n",
    "            self.indent = -6\n",
    "               \n",
    "\n",
    "    def handle_data(self, data):\n",
    "        if data.strip() != \"\":\n",
    "            printWithIndentation(data, self.indent) # this calls the function to print heading\n",
    "        \n",
    "\n",
    "def printWithIndentation(text, indent):\n",
    "    if indent >= 0:\n",
    "        print(f\"{' ' * indent}{text}\")      # this prints heading with indentation \n",
    "\n",
    "input_file = open('w3c.html') \n",
    "content = input_file.read() \n",
    "input_file.close() \n",
    "\n",
    "headingParser = HeadingParser()\n",
    "headingParser.feed(content)"
   ]
  },
  {
   "cell_type": "markdown",
   "id": "4f45dbdf",
   "metadata": {},
   "source": [
    "# QUESTION 7"
   ]
  },
  {
   "cell_type": "code",
   "execution_count": 9,
   "id": "223e154a",
   "metadata": {},
   "outputs": [
    {
     "name": "stdout",
     "output_type": "stream",
     "text": [
      "http://reed.cs.depaul.edu/lperkovic/csc242/test1.html\n"
     ]
    }
   ],
   "source": [
    "import requests\n",
    "from bs4 import BeautifulSoup\n",
    "\n",
    "def webdir(url, depth, indent):\n",
    "    if depth == 0:\n",
    "        return\n",
    "    print(' ' * indent + url)\n",
    "    try:\n",
    "        response = requests.get(url)\n",
    "        content = response.content\n",
    "        soup = BeautifulSoup(content, 'html.parser')\n",
    "        links = soup.find_all('a')\n",
    "        for link in links:\n",
    "            href = link.get('href')\n",
    "            if href and href.startswith('http'):\n",
    "                webdir(href, depth - 1, indent + 1)\n",
    "    except requests.exceptions.RequestException as e:\n",
    "        print(f\"Error accessing {url}: {e}\")\n",
    "\n",
    "#  we Test the function at this phase\n",
    "webdir('http://reed.cs.depaul.edu/lperkovic/csc242/test1.html', 2, 0)"
   ]
  },
  {
   "cell_type": "markdown",
   "id": "8ace4ab6",
   "metadata": {},
   "source": [
    "# QUESTION 8"
   ]
  },
  {
   "cell_type": "code",
   "execution_count": 10,
   "id": "79474d5f",
   "metadata": {},
   "outputs": [
    {
     "name": "stdout",
     "output_type": "stream",
     "text": [
      "All the temperature data: [(24.8,), (28.4,), (27.9,), (27.6,), (4.2,), (8.3,), (15.7,), (10.4,), (13.6,), (20.7,), (27.7,), (22.2,)]\n",
      "All the cities, but without repetition: [('Mumbai',), ('London',), ('Cairo',)]\n",
      "All the records for India: [('Mumbai', 'India', 'Winter', 24.8, 5.9), ('Mumbai', 'India', 'Spring', 28.4, 16.2), ('Mumbai', 'India', 'Summer', 27.9, 1549.4), ('Mumbai', 'India', 'Fall', 27.6, 346.0)]\n",
      "All the Fall records: [('Mumbai', 'India', 'Fall', 27.6, 346.0), ('London', 'United Kingdom', 'Fall', 10.4, 218.5), ('Cairo', 'Egypt', 'Fall', 22.2, 4.5)]\n",
      "Average rainfall between 200 and 400 mm: [('Mumbai', 'India', 'Fall'), ('London', 'United Kingdom', 'Winter'), ('London', 'United Kingdom', 'Fall')]\n",
      "Fall temperature above 20 degrees: [('Cairo', 'Egypt'), ('Mumbai', 'India')]\n",
      "Total annual rainfall for Cairo: (27.6,)\n",
      "Total rainfall for each season: [('Fall', 569.0), ('Spring', 192.29999999999998), ('Summer', 1706.5), ('Winter', 230.1)]\n"
     ]
    }
   ],
   "source": [
    "import sqlite3\n",
    "\n",
    "def setup_database():\n",
    "    # Connect to SQLite database \n",
    "    conn = sqlite3.connect('weather.db')\n",
    "    cursor = conn.cursor()\n",
    "\n",
    "    # Create table\n",
    "    cursor.execute('''\n",
    "        CREATE TABLE IF NOT EXISTS Weather (\n",
    "            City TEXT,\n",
    "            Country TEXT,\n",
    "            Season TEXT,\n",
    "            Temperature REAL,\n",
    "            Rainfall REAL\n",
    "        )\n",
    "    ''')\n",
    "\n",
    "    # To avoid duplicates, if the table already exists, clear it.\n",
    "    cursor.execute('DELETE FROM Weather')\n",
    "\n",
    "    # Insert data\n",
    "    data = [\n",
    "        ('Mumbai', 'India', 'Winter', 24.8, 5.9),\n",
    "        ('Mumbai', 'India', 'Spring', 28.4, 16.2),\n",
    "        ('Mumbai', 'India', 'Summer', 27.9, 1549.4),\n",
    "        ('Mumbai', 'India', 'Fall', 27.6, 346.0),\n",
    "        ('London', 'United Kingdom', 'Winter', 4.2, 207.7),\n",
    "        ('London', 'United Kingdom', 'Spring', 8.3, 169.6),\n",
    "        ('London', 'United Kingdom', 'Summer', 15.7, 157.0),\n",
    "        ('London', 'United Kingdom', 'Fall', 10.4, 218.5),\n",
    "        ('Cairo', 'Egypt', 'Winter', 13.6, 16.5),\n",
    "        ('Cairo', 'Egypt', 'Spring', 20.7, 6.5),\n",
    "        ('Cairo', 'Egypt', 'Summer', 27.7, 0.1),\n",
    "        ('Cairo', 'Egypt', 'Fall', 22.2, 4.5)\n",
    "    ]\n",
    "    cursor.executemany('INSERT INTO Weather VALUES (?,?,?,?,?)', data)\n",
    "\n",
    "    # Update the database.\n",
    "    conn.commit()\n",
    "    conn.close()\n",
    "\n",
    "def run_queries():\n",
    "    # Connect to the database\n",
    "    conn = sqlite3.connect('weather.db')\n",
    "    cursor = conn.cursor()\n",
    "\n",
    "    # Query a) All the temperature data\n",
    "    cursor.execute('SELECT Temperature FROM Weather')\n",
    "    temperatures = cursor.fetchall()\n",
    "    print(\"All the temperature data:\", temperatures)\n",
    "\n",
    "    # Query b) All the cities, but without repetition. from the question\n",
    "    cursor.execute('SELECT DISTINCT City FROM Weather')\n",
    "    cities = cursor.fetchall()\n",
    "    print(\"All the cities, but without repetition:\", cities)\n",
    "\n",
    "    # Query c) All the records for India\n",
    "    cursor.execute(\"SELECT * FROM Weather WHERE Country = 'India'\")\n",
    "    india_records = cursor.fetchall()\n",
    "    print(\"All the records for India:\", india_records)\n",
    "\n",
    "    # Query d) All the Fall records\n",
    "    cursor.execute(\"SELECT * FROM Weather WHERE Season = 'Fall'\")\n",
    "    fall_records = cursor.fetchall()\n",
    "    print(\"All the Fall records:\", fall_records)\n",
    "\n",
    "    # Query e) The city, country, and season for which the average rainfall is between 200 and 400 millimeters\n",
    "    cursor.execute(\"SELECT City, Country, Season FROM Weather WHERE Rainfall BETWEEN 200 AND 400\")\n",
    "    rainfall_records = cursor.fetchall()\n",
    "    print(\"Average rainfall between 200 and 400 mm:\", rainfall_records)\n",
    "\n",
    "    # Query f) The city and country for which the average Fall temperature is above 20 degrees, in increasing temperature order\n",
    "    cursor.execute(\"SELECT City, Country FROM Weather WHERE Season = 'Fall' AND Temperature > 20 ORDER BY Temperature ASC\")\n",
    "    fall_temp_records = cursor.fetchall()\n",
    "    print(\"Fall temperature above 20 degrees:\", fall_temp_records)\n",
    "\n",
    "    # Query g) The total annual rainfall for Cairo\n",
    "    cursor.execute(\"SELECT SUM(Rainfall) AS Total_Annual_Rainfall FROM Weather WHERE City = 'Cairo'\")\n",
    "    cairo_rainfall = cursor.fetchone()\n",
    "    print(\"Total annual rainfall for Cairo:\", cairo_rainfall)\n",
    "\n",
    "    # Query h) The total rainfall for each season\n",
    "    cursor.execute(\"SELECT Season, SUM(Rainfall) AS Total_Rainfall FROM Weather GROUP BY Season\")\n",
    "    seasonal_rainfall = cursor.fetchall()\n",
    "    print(\"Total rainfall for each season:\", seasonal_rainfall)\n",
    "\n",
    "    # at this stage we Close the connection\n",
    "    conn.close()\n",
    "\n",
    "# Execute the functions\n",
    "setup_database()\n",
    "run_queries()"
   ]
  },
  {
   "cell_type": "markdown",
   "id": "b80ca034",
   "metadata": {},
   "source": [
    "# QUESTION 9"
   ]
  },
  {
   "cell_type": "code",
   "execution_count": 11,
   "id": "814a4d2b",
   "metadata": {},
   "outputs": [
    {
     "name": "stdout",
     "output_type": "stream",
     "text": [
      "['THE', 'QUICK', 'BROWN', 'FOX', 'JUMPS', 'OVER', 'THE', 'LAZY', 'DOG']\n",
      "\n",
      "\n",
      "['the', 'quick', 'brown', 'fox', 'jumps', 'over', 'the', 'lazy', 'dog']\n",
      "\n",
      "\n",
      "[3, 5, 5, 3, 5, 4, 3, 4, 3]\n",
      "\n",
      "\n",
      "[['THE', 'the', 3], ['QUICK', 'quick', 5], ['BROWN', 'brown', 5], ['FOX', 'fox', 3], ['JUMPS', 'jumps', 5], ['OVER', 'over', 4], ['THE', 'the', 3], ['LAZY', 'lazy', 4], ['DOG', 'dog', 3]]\n",
      "\n",
      "\n",
      "['quick', 'brown', 'jumps', 'over', 'lazy']\n"
     ]
    },
    {
     "data": {
      "text/plain": [
       "['quick', 'brown', 'jumps', 'over', 'lazy']"
      ]
     },
     "execution_count": 11,
     "metadata": {},
     "output_type": "execute_result"
    }
   ],
   "source": [
    "words = ['The', 'quick', 'brown', 'fox', 'jumps', 'over','the', 'lazy', 'dog']  \n",
    "upper_list = []\n",
    "lower_list = []\n",
    "len_list = []\n",
    "mix_list = []\n",
    "four_char_list = []\n",
    "\n",
    "for word in words:\n",
    "    #in this phase, converting list into uppercase\n",
    "    upper_list.append(word.upper())   \n",
    "    #this phase; converting list into lowercase\n",
    "    lower_list.append(word.lower())   \n",
    "    #printing lenght of the words in list\n",
    "    len_list.append(len(word))        \n",
    "    #next phase is printing the mix list\n",
    "    mix_list.append([word.upper(), word.lower(), len(word)])    \n",
    "    \n",
    "    #printing a list of words with four or more characters from a list.\n",
    "    if len(word) >= 4:                  \n",
    "        four_char_list.append(word)\n",
    "\n",
    "#printing list\n",
    "print(upper_list)\n",
    "print('\\n')\n",
    "print(lower_list)\n",
    "print('\\n')\n",
    "print(len_list)\n",
    "print('\\n')\n",
    "print(mix_list)\n",
    "print('\\n')\n",
    "print(four_char_list)\n",
    "\n",
    "['THE', 'QUICK', 'BROWN', 'FOX', 'JUMPS', 'OVER', 'THE', 'LAZY', 'DOG']\n",
    "\n",
    "\n",
    "['the', 'quick', 'brown', 'fox', 'jumps', 'over', 'the', 'lazy', 'dog']\n",
    "\n",
    "\n",
    "[3, 5, 5, 3, 5, 4, 3, 4, 3]\n",
    "\n",
    "\n",
    "[['THE', 'the', 3], ['QUICK', 'quick', 5], ['BROWN', 'brown', 5], ['FOX', 'fox', 3], ['JUMPS', 'jumps', 5], ['OVER', 'over', 4], ['THE', 'the', 3], ['LAZY', 'lazy', 4], ['DOG', 'dog', 3]]\n",
    "\n",
    "\n",
    "['quick', 'brown', 'jumps', 'over', 'lazy']\n",
    "\n"
   ]
  },
  {
   "cell_type": "code",
   "execution_count": null,
   "id": "d3a452cd",
   "metadata": {},
   "outputs": [],
   "source": []
  }
 ],
 "metadata": {
  "kernelspec": {
   "display_name": "Python 3 (ipykernel)",
   "language": "python",
   "name": "python3"
  },
  "language_info": {
   "codemirror_mode": {
    "name": "ipython",
    "version": 3
   },
   "file_extension": ".py",
   "mimetype": "text/x-python",
   "name": "python",
   "nbconvert_exporter": "python",
   "pygments_lexer": "ipython3",
   "version": "3.11.7"
  }
 },
 "nbformat": 4,
 "nbformat_minor": 5
}
